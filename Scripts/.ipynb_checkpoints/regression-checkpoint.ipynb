{
 "cells": [
  {
   "cell_type": "code",
   "execution_count": 1,
   "metadata": {},
   "outputs": [
    {
     "data": {
      "text/html": [
       "<pre style=\"white-space:pre;overflow-x:auto;line-height:normal;font-family:Menlo,'DejaVu Sans Mono',consolas,'Courier New',monospace\">Manim Community <span style=\"color: #008000; text-decoration-color: #008000\">v0.17.3</span>\n",
       "\n",
       "</pre>\n"
      ],
      "text/plain": [
       "Manim Community \u001b[32mv0.\u001b[0m\u001b[32m17.3\u001b[0m\n",
       "\n"
      ]
     },
     "metadata": {},
     "output_type": "display_data"
    }
   ],
   "source": [
    "from manim import *\n",
    "import numpy as np"
   ]
  },
  {
   "cell_type": "code",
   "execution_count": 29,
   "metadata": {},
   "outputs": [
    {
     "name": "stderr",
     "output_type": "stream",
     "text": [
      "                                                                                \r"
     ]
    },
    {
     "name": "stdout",
     "output_type": "stream",
     "text": [
      "0.08333333333333333\n"
     ]
    },
    {
     "name": "stderr",
     "output_type": "stream",
     "text": [
      "                                                                                \r"
     ]
    },
    {
     "data": {
      "text/html": [
       "<video src=\"media/jupyter/Regression@2023-11-14@17-58-17.mp4\" controls autoplay loop style=\"max-width: 60%;\"  >\n",
       "      Your browser does not support the <code>video</code> element.\n",
       "    </video>"
      ],
      "text/plain": [
       "<IPython.core.display.Video object>"
      ]
     },
     "metadata": {},
     "output_type": "display_data"
    }
   ],
   "source": [
    "%%manim -qm -v WARNING Regression\n",
    "\n",
    "class Regression(Scene):\n",
    "    \n",
    "    def construct(self):\n",
    "        \"\"\"\n",
    "        Scene montrant ce qu est une regression. \n",
    "        \n",
    "        Mais qu est ce qu une regression ? \n",
    "        \n",
    "        creer un graphique\n",
    "        \n",
    "        creer un nuage de point qui represente un phenome en fonction d un autre, \n",
    "        \n",
    "        creer une droite de type y=x\n",
    "        \n",
    "        dessiner la distance entre un point et cette droite\n",
    "        \n",
    "        dessiner la distance entre un pointe et cette droite pour tous les points\n",
    "        \n",
    "        calculer la somme des distances a la droite\n",
    "        \n",
    "        faire varier la pente de la droite avec la valeur de la somme des distances a la droite \n",
    "        \n",
    "        stabiliser quand la valeur est minimale\n",
    "        \n",
    "        Ne pas parler des carres mais juste de la distance ? \n",
    "        \n",
    "        \"\"\"\n",
    "        \n",
    "        #Creer une grille\n",
    "        \n",
    "        x_max=10\n",
    "        y_max=6\n",
    "        \n",
    "        grille=NumberPlane(\n",
    "            x_range=(0, 10, 1),\n",
    "            y_range=(0, 6, 1)\n",
    "        )\n",
    "        \n",
    "        self.play(FadeIn(grille))\n",
    "        self.wait()\n",
    "        \n",
    "        x=1\n",
    "        \n",
    "        print(self.droite(x))\n",
    "        \n",
    "        # Creer une nuage de points\n",
    "        \n",
    "        num_points = 100\n",
    "        variabilite=0.5\n",
    "        nuage = VGroup()\n",
    "        \n",
    "        x=0\n",
    "        y=0\n",
    "        \n",
    "        for i in range(0,num_points):\n",
    "            \n",
    "            x=((i/num_points)*10)+np.random.normal(0,variabilite)\n",
    "            y=self.droite(x)+np.random.normal(0,variabilite)\n",
    "            point=Dot([x,y,0])\n",
    "            \n",
    "            if x>-5 and y>-3:\n",
    "                nuage.add(point)\n",
    "                \n",
    "        nuage.move_to(grille.coords_to_point(x_max/2, y_max/2, 0))\n",
    "        self.play(FadeIn(nuage))\n",
    "        \n",
    "        self.wait()\n",
    "        \n",
    "        # Creer une droite\n",
    "        \n",
    "        #droite = FunctionGraph(lambda x: x)\n",
    "        droite=(FunctionGraph(lambda x: self.droite(x)))\n",
    "        droite.move_to(grille.coords_to_point(x_max/2, y_max/2, 0))  # Convertir les coordonnées\n",
    "        self.add(droite)\n",
    "        #self.play(FadeIn(droite))\n",
    "        \n",
    "        self.wait()\n",
    "        \n",
    "        # dessiner la distance entre un point et cette droite\n",
    "        \n",
    "        \n",
    "        # dessiner la distance entre un pointe et cette droite pour tous les points\n",
    "        \n",
    "        # calculer la somme des distances a la droite\n",
    "        \n",
    "        # faire varier la pente de la droite avec la valeur de la somme des distances a la droite \n",
    "        \n",
    "        # stabiliser quand la valeur est minimale\n",
    "        \n",
    "    def distance(self, point, droite):\n",
    "        \n",
    "        \"\"\"\n",
    "        Fonction qui prend un point et une droite en entree et retourne la distance entre les deux\n",
    "        \n",
    "        \"\"\"\n",
    "        \n",
    "        distance = 4\n",
    "        \n",
    "        #distance = distance entre point et droite\n",
    "        \n",
    "        x = point.get_x()\n",
    "        y = point.get_x()\n",
    "        y_droite = droite(x)\n",
    "        \n",
    "        \n",
    "        return distance\n",
    "    \n",
    "    def droite(self, x):\n",
    "        return (x**2)/12\n",
    "    \n",
    "\n",
    "    \n",
    "        \n",
    "\n"
   ]
  },
  {
   "cell_type": "markdown",
   "metadata": {},
   "source": [
    "Problemes : \n",
    "\n",
    "Probleme de coordonnées : les coordonnées que je donne sont exprimées en fonction de l'image, alors que je voudrais qu'elles soient exprimées selon les axes. "
   ]
  }
 ],
 "metadata": {
  "kernelspec": {
   "display_name": "manimenv",
   "language": "python",
   "name": "manimenv"
  },
  "language_info": {
   "codemirror_mode": {
    "name": "ipython",
    "version": 3
   },
   "file_extension": ".py",
   "mimetype": "text/x-python",
   "name": "python",
   "nbconvert_exporter": "python",
   "pygments_lexer": "ipython3",
   "version": "3.11.6"
  },
  "toc": {
   "base_numbering": 1,
   "nav_menu": {},
   "number_sections": true,
   "sideBar": true,
   "skip_h1_title": false,
   "title_cell": "Table of Contents",
   "title_sidebar": "Contents",
   "toc_cell": false,
   "toc_position": {},
   "toc_section_display": true,
   "toc_window_display": false
  }
 },
 "nbformat": 4,
 "nbformat_minor": 4
}
