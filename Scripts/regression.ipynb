{
 "cells": [
  {
   "cell_type": "code",
   "execution_count": 2,
   "metadata": {},
   "outputs": [],
   "source": [
    "from manim import *\n",
    "import numpy as np"
   ]
  },
  {
   "cell_type": "code",
   "execution_count": 33,
   "metadata": {},
   "outputs": [
    {
     "name": "stderr",
     "output_type": "stream",
     "text": [
      "                                                                                \r"
     ]
    },
    {
     "data": {
      "text/html": [
       "<video src=\"media/jupyter/Regression@2023-11-11@16-30-43.mp4\" controls autoplay loop style=\"max-width: 60%;\"  >\n",
       "      Your browser does not support the <code>video</code> element.\n",
       "    </video>"
      ],
      "text/plain": [
       "<IPython.core.display.Video object>"
      ]
     },
     "metadata": {},
     "output_type": "display_data"
    }
   ],
   "source": [
    "%%manim -qm -v WARNING Regression\n",
    "\n",
    "class Regression(Scene):\n",
    "    \n",
    "    def construct(self):\n",
    "        \"\"\"\n",
    "        Scene montrant ce qu est une regression. \n",
    "        \n",
    "        Mais qu est ce qu une regression ? \n",
    "        \n",
    "        creer un graphique\n",
    "        \n",
    "        creer un nuage de point qui represente un phenome en fonction d un autre, \n",
    "        \n",
    "        creer une droite de type y=x\n",
    "        \n",
    "        dessiner la distance entre un point et cette droite\n",
    "        \n",
    "        dessiner la distance entre un pointe et cette droite pour tous les points\n",
    "        \n",
    "        calculer la somme des distances a la droite\n",
    "        \n",
    "        faire varier la pente de la droite avec la valeur de la somme des distances a la droite \n",
    "        \n",
    "        stabiliser quand la valeur est minimale\n",
    "        \n",
    "        Ne pas parler des carres mais juste de la distance ? \n",
    "        \n",
    "        \"\"\"\n",
    "        \n",
    "        #Creer une grille\n",
    "        \n",
    "        grille=NumberPlane(\n",
    "            x_range=(0, 10, 1),\n",
    "            y_range=(0, 6, 1)\n",
    "        )\n",
    "        \n",
    "        self.play(FadeIn(grille))\n",
    "        self.wait()\n",
    "        \n",
    "        # Creer une nuage de points\n",
    "        \n",
    "        num_points = 100\n",
    "        variabilite=0.5\n",
    "        nuage = VGroup()\n",
    "        \n",
    "        x=0\n",
    "        y=0\n",
    "        \n",
    "        for i in range(0,num_points):\n",
    "            \n",
    "            x=((i/num_points)*10)+np.random.normal(0,variabilite)-5\n",
    "            y=((i/num_points)*6)+np.random.normal(0,variabilite)-3\n",
    "            point=Dot([x,y,0])\n",
    "            \n",
    "            if x>-5 and y>-3:\n",
    "                nuage.add(point)\n",
    "                \n",
    "        self.play(FadeIn(nuage))\n",
    "        \n",
    "        self.wait()\n",
    "        \n",
    "        # Creer une droite\n",
    "        \n",
    "        #droite = FunctionGraph(lambda x: x)\n",
    "        grille.add(FunctionGraph(lambda x: x))\n",
    "        \n",
    "        #self.play(FadeIn(droite))\n",
    "        \n",
    "        self.wait()\n",
    "        \n",
    "        # dessiner la distance entre un point et cette droite\n",
    "        \n",
    "        # dessiner la distance entre un pointe et cette droite pour tous les points\n",
    "        \n",
    "        # calculer la somme des distances a la droite\n",
    "        \n",
    "        # faire varier la pente de la droite avec la valeur de la somme des distances a la droite \n",
    "        \n",
    "        # stabiliser quand la valeur est minimale\n",
    "        \n",
    "    def distance(self, point, droite):\n",
    "        \n",
    "        \"\"\"\n",
    "        Fonction qui prend un point et une droite en entree et retourne la distance entre les deux\n",
    "        \n",
    "        \"\"\"\n",
    "        \n",
    "        distance = 4\n",
    "        \n",
    "        #distance = distance entre point et droite\n",
    "        \n",
    "        return distance\n",
    "        \n",
    "\n"
   ]
  },
  {
   "cell_type": "markdown",
   "metadata": {},
   "source": [
    "Problemes : \n",
    "\n",
    "Probleme de coordonnées : les coordonnées que je donne sont exprimées en fonction de l'image, alors que je voudrais qu'elles soient exprimées selon les axes. "
   ]
  }
 ],
 "metadata": {
  "kernelspec": {
   "display_name": "Python 3 (ipykernel)",
   "language": "python",
   "name": "python3"
  },
  "language_info": {
   "codemirror_mode": {
    "name": "ipython",
    "version": 3
   },
   "file_extension": ".py",
   "mimetype": "text/x-python",
   "name": "python",
   "nbconvert_exporter": "python",
   "pygments_lexer": "ipython3",
   "version": "3.8.3"
  },
  "toc": {
   "base_numbering": 1,
   "nav_menu": {},
   "number_sections": true,
   "sideBar": true,
   "skip_h1_title": false,
   "title_cell": "Table of Contents",
   "title_sidebar": "Contents",
   "toc_cell": false,
   "toc_position": {},
   "toc_section_display": true,
   "toc_window_display": false
  }
 },
 "nbformat": 4,
 "nbformat_minor": 4
}
